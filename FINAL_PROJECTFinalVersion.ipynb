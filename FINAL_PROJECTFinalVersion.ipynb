{
  "cells": [
    {
      "cell_type": "markdown",
      "metadata": {
        "id": "69Bd36scV0TD"
      },
      "source": [
        "**THIS METHOD CRAWLS GOOGLE IMAGES.**\n"
      ]
    },
    {
      "cell_type": "code",
      "execution_count": null,
      "metadata": {
        "id": "P1ezk9bfT6XR"
      },
      "outputs": [],
      "source": [
        "import requests\n",
        "from bs4 import BeautifulSoup\n",
        "import urllib.parse\n",
        "import os\n",
        "\n",
        "\n",
        "def crawl_google_images(search_term, num_images):\n",
        "    # Create a new directory for the search term\n",
        "    dir_name = search_term.replace(\" \", \"_\")\n",
        "    if not os.path.exists(dir_name):\n",
        "        os.makedirs(dir_name)\n",
        "\n",
        "    # Set the base URL for the Google Images search\n",
        "    base_url = \"https://www.google.com/search?q=\"\n",
        "    search_url = base_url + urllib.parse.quote_plus(search_term) + \"&source=lnms&tbm=isch\"\n",
        "\n",
        "    # Send the HTTP GET request\n",
        "    response = requests.get(search_url)\n",
        "    response.raise_for_status()\n",
        "\n",
        "    # Parse the HTML response\n",
        "    soup = BeautifulSoup(response.text, \"html.parser\")\n",
        "\n",
        "    # Find all the images on the page\n",
        "    images = soup.find_all(\"img\", num_images)\n",
        "    \n",
        "    # Download the images\n",
        "    # print(enumerate(images))\n",
        "    for i, image in enumerate(images):\n",
        "        # print(enumerate(images))\n",
        "        try:\n",
        "            # Get the image URL\n",
        "            img_url = image[\"src\"]\n",
        "\n",
        "            # Open the image URL\n",
        "            response = requests.get(img_url)\n",
        "            response.raise_for_status()\n",
        "\n",
        "            # Save the image to a file\n",
        "            file_name = search_term.replace(\" \", \"_\") + str(i) + \".jpg\"\n",
        "            with open(os.path.join(dir_name, file_name), \"wb\") as f:\n",
        "                f.write(response.content)\n",
        "        except:\n",
        "            # Skip the image if there is any error\n",
        "            continue\n",
        "\n",
        "# Test the function with a search term and number of images\n",
        "import requests\n",
        "from bs4 import BeautifulSoup\n",
        "import urllib.parse\n",
        "import os\n",
        "\n",
        "def crawl_google_images(search_term,dir):\n",
        "    # Create a new directory for the search term\n",
        "    #dir = search_term.replace(\" \", \"_\")\n",
        "    if not os.path.exists(dir):\n",
        "        os.makedirs(dir)\n",
        "\n",
        "    # Set the base URL for the Google Images search\n",
        "    base_url = \"https://www.google.com/search?q=\"\n",
        "    search_url = base_url + urllib.parse.quote_plus(search_term) + \"&source=lnms&tbm=isch\"\n",
        "    # Send the HTTP GET request\n",
        "    response = requests.get(search_url)\n",
        "    response.raise_for_status()\n",
        "\n",
        "    # Parse the HTML response\n",
        "    soup = BeautifulSoup(response.text, \"html.parser\")\n",
        "\n",
        "    # Find all the images on the page\n",
        "    images = soup.find_all(\"img\")\n",
        "\n",
        "    # Download the images\n",
        "    for i, image in enumerate(images):\n",
        "      # index- value\n",
        "        try:\n",
        "            # Get the image URL\n",
        "            img_url = image[\"src\"]\n",
        "\n",
        "            # Open the image URL\n",
        "            response = requests.get(img_url)\n",
        "            response.raise_for_status()\n",
        "\n",
        "            # Save the image to a file\n",
        "            file_name = search_term.replace(\" \", \"_\") + str(i) + \".jpg\"\n",
        "            with open(os.path.join(dir, file_name), \"wb\") as f:\n",
        "                f.write(response.content) # what is downloaded.\n",
        "        except:\n",
        "            # Skip the image if there is any error\n",
        "            continue\n",
        "\n",
        "# Test the function with a search term and number of images\n",
        "\n",
        "\n",
        "colors = \"\"\"\n",
        "سفید\n",
        "مشکی\n",
        "خاکستری\n",
        "نقره ای\n",
        "نوک مدادی\n",
        "قهوه ای\n",
        "آبی\n",
        "قرمز\n",
        "زرد\n",
        "صورتی\n",
        "زرشکی\n",
        "بادمجانی\n",
        "سرمه ای\n",
        "بژ\n",
        "طلایی\n",
        "سبز\n",
        "نقرآبی\n",
        "يشمى\n",
        "مسی\n",
        "ذغالی\n",
        "زیتونی\n",
        "اطلسی\n",
        "طوسی\n",
        "پوست پیازی\"\"\".split(\"\\n\")\n",
        "\n",
        "cars = \"\"\" تیبا • پژو 206 • پراید • پژو پارس • سمند • دنا\"\"\".split(\"•\")\n",
        "\n",
        "\n",
        "for i in tqdm.tqdm(cars):\n",
        "  i = i.replace(\" \",\"\")\n",
        "  for j in colors:\n",
        "    j = j.replace(\" \",\"\")\n",
        "    dir = '/content/drive/MyDrive/Cars/'+i\n",
        "    crawl_google_images(i+\" \"+ j,dir)\n",
        "\n"
      ]
    },
    {
      "cell_type": "markdown",
      "metadata": {
        "id": "-FdupgWkU67i"
      },
      "source": [
        "**CREATE MODEL INPUT AND OUTPUTS.**❗❗"
      ]
    },
    {
      "cell_type": "code",
      "execution_count": null,
      "metadata": {
        "id": "uNKvi_KkUWXR"
      },
      "outputs": [],
      "source": [
        "#CREATING X & Y \n",
        "import os\n",
        "import tensorflow as tf;\n",
        "root_path = '/content/drive/MyDrive/Cars';\n",
        "car_ls=os.listdir(root_path)\n",
        "X = []\n",
        "Y = []\n",
        "for c in car_ls:\n",
        "  x = root_path + '/' + c;\n",
        "  for v in os.listdir(x):\n",
        "    mine_path = x + '/' + v;\n",
        "    # print(mine_path)\n",
        "    ax=tf.keras.utils.load_img(mine_path)\n",
        "    ax = tf.io.read_file(mine_path);\n",
        "    tensor1=tf.image.decode_image(ax, channels=3) \n",
        "    gscale_tensor = tf.image.rgb_to_grayscale(tensor1)\n",
        "    resized_tensor=tf.image.resize(gscale_tensor, (100, 100))\n",
        "    X.append(resized_tensor/255.0)"
      ]
    },
    {
      "cell_type": "code",
      "execution_count": null,
      "metadata": {
        "id": "kDAAEctzVq5s"
      },
      "outputs": [],
      "source": [
        "for c in car_ls:\n",
        "  for i in range(500):\n",
        "    Y.append(c)"
      ]
    },
    {
      "cell_type": "markdown",
      "metadata": {
        "id": "CdRGcD8fWLqZ"
      },
      "source": [
        "**IMPORT LIBS REQUIRED**"
      ]
    },
    {
      "cell_type": "code",
      "execution_count": null,
      "metadata": {
        "id": "Wn7OMc88WQbI"
      },
      "outputs": [],
      "source": [
        "import tensorflow as tf\n",
        "from tensorflow.keras import datasets, layers, models\n",
        "import matplotlib.pyplot as plt"
      ]
    },
    {
      "cell_type": "markdown",
      "metadata": {
        "id": "tLgAT5FUWbQ1"
      },
      "source": [
        "**THIS PART OF CODE DIVIDES THE MODEL INTO TRAIN AND VALIDATION**"
      ]
    },
    {
      "cell_type": "code",
      "execution_count": null,
      "metadata": {
        "id": "zH6XYvvcWStK"
      },
      "outputs": [],
      "source": [
        "\n",
        "train_test_rate = 0.7;\n",
        "X_TRAIN_ASLI = []\n",
        "X_TEST_ASLI = []\n",
        "Y_TRAIN_ASLI = []\n",
        "Y_TEST_ASLI = []\n",
        "for i in range(1,7):\n",
        "  START_RANGE = (i - 1) * 500;\n",
        "  END_RANGE = (i) * 500;\n",
        "  DATASET1 = X[START_RANGE : END_RANGE]\n",
        "  DATASET2 = Y[START_RANGE : END_RANGE]\n",
        "  len_1 = int(train_test_rate * 500)\n",
        "\n",
        "\n",
        "  train = DATASET1[:len_1]\n",
        "  test = DATASET1[len_1:]\n",
        "  X_TRAIN_ASLI += train;\n",
        "  X_TEST_ASLI += test;\n",
        "\n",
        "\n",
        "  train_y = DATASET2[: len_1]\n",
        "  test_y = DATASET2[len_1:]\n",
        "  Y_TRAIN_ASLI+=train_y;\n",
        "  Y_TEST_ASLI+=test_y;\n"
      ]
    },
    {
      "cell_type": "markdown",
      "metadata": {
        "id": "QStom83GWyRT"
      },
      "source": [
        "**THE FOLLOWING PART OF CODE MAKES Y FEATURES NUMERIC**"
      ]
    },
    {
      "cell_type": "code",
      "execution_count": null,
      "metadata": {
        "colab": {
          "base_uri": "https://localhost:8080/"
        },
        "id": "j8Zgudw4W6Oi",
        "outputId": "5dd97ddf-9d13-4d8d-b3fc-303a90b23bae"
      },
      "outputs": [
        {
          "output_type": "execute_result",
          "data": {
            "text/plain": [
              "900"
            ]
          },
          "metadata": {},
          "execution_count": 5
        }
      ],
      "source": [
        "car_list = list(set(Y_TEST_ASLI))\n",
        "y_train_numeric = []\n",
        "y_test_nimeric = []\n",
        "for item in Y_TRAIN_ASLI:\n",
        "  y_train_numeric.append(car_list.index(item))\n",
        "\n",
        "for item in Y_TEST_ASLI:\n",
        "  y_test_nimeric.append(car_list.index(item))\n",
        "  \n",
        "\n",
        "\n",
        "len(y_test_nimeric)"
      ]
    },
    {
      "cell_type": "markdown",
      "metadata": {
        "id": "UC_-GDe8XIJA"
      },
      "source": [
        "**FROM NOW ON WHAT IS HAPPENING IS JUST CREATING MODELS AND TESTING ON VALIDATION AND INPUT**"
      ]
    },
    {
      "cell_type": "code",
      "execution_count": null,
      "metadata": {
        "colab": {
          "base_uri": "https://localhost:8080/"
        },
        "id": "0CZOSWOMXb4a",
        "outputId": "f249aea4-f18d-4a21-b7c5-88e722119f88"
      },
      "outputs": [
        {
          "output_type": "stream",
          "name": "stdout",
          "text": [
            "Epoch 1/10\n"
          ]
        },
        {
          "output_type": "stream",
          "name": "stderr",
          "text": [
            "/usr/local/lib/python3.8/dist-packages/tensorflow/python/util/dispatch.py:1082: UserWarning: \"`sparse_categorical_crossentropy` received `from_logits=True`, but the `output` argument was produced by a sigmoid or softmax activation and thus does not represent logits. Was this intended?\"\n",
            "  return dispatch_target(*args, **kwargs)\n"
          ]
        },
        {
          "output_type": "stream",
          "name": "stdout",
          "text": [
            "66/66 [==============================] - 10s 44ms/step - loss: 1.7931 - accuracy: 0.1843 - val_loss: 1.7954 - val_accuracy: 0.1533\n",
            "Epoch 2/10\n",
            "66/66 [==============================] - 2s 34ms/step - loss: 1.7536 - accuracy: 0.2281 - val_loss: 1.7910 - val_accuracy: 0.2056\n",
            "Epoch 3/10\n",
            "66/66 [==============================] - 3s 38ms/step - loss: 1.6910 - accuracy: 0.2905 - val_loss: 1.7335 - val_accuracy: 0.2589\n",
            "Epoch 4/10\n",
            "66/66 [==============================] - 3s 39ms/step - loss: 1.5618 - accuracy: 0.3762 - val_loss: 1.6792 - val_accuracy: 0.3144\n",
            "Epoch 5/10\n",
            "66/66 [==============================] - 3s 39ms/step - loss: 1.3474 - accuracy: 0.4790 - val_loss: 1.6639 - val_accuracy: 0.3456\n",
            "Epoch 6/10\n",
            "66/66 [==============================] - 2s 34ms/step - loss: 1.1184 - accuracy: 0.5786 - val_loss: 1.7122 - val_accuracy: 0.3678\n",
            "Epoch 7/10\n",
            "66/66 [==============================] - 3s 39ms/step - loss: 0.8565 - accuracy: 0.6881 - val_loss: 1.8854 - val_accuracy: 0.3978\n",
            "Epoch 8/10\n",
            "66/66 [==============================] - 2s 34ms/step - loss: 0.5852 - accuracy: 0.8010 - val_loss: 2.2657 - val_accuracy: 0.4044\n",
            "Epoch 9/10\n",
            "66/66 [==============================] - 3s 39ms/step - loss: 0.3716 - accuracy: 0.8667 - val_loss: 2.6385 - val_accuracy: 0.4056\n",
            "Epoch 10/10\n",
            "66/66 [==============================] - 2s 34ms/step - loss: 0.2088 - accuracy: 0.9343 - val_loss: 3.7881 - val_accuracy: 0.4100\n"
          ]
        }
      ],
      "source": [
        "CNN_model = models.Sequential()\n",
        "CNN_model.add(layers.Conv2D(100, (3, 3), activation='relu', input_shape=(100, 100,1))) #this is a CONV2D with RELU\n",
        "CNN_model.add(layers.MaxPooling2D(2,2)) \n",
        "CNN_model.add(layers.Conv2D(100, (3, 3), activation='relu'))\n",
        "CNN_model.add(layers.Conv2D(100, (3, 3), activation='leaky_relu')) #RELU Makes CNN nurons die, leaky relu resolves it.\n",
        "CNN_model.add(layers.MaxPooling2D(5, 5))\n",
        "CNN_model.add(layers.Conv2D(100, (3, 3), activation='leaky_relu'))\n",
        "\n",
        "\n",
        "\n",
        "CNN_model.add(layers.Flatten())\n",
        "CNN_model.add(layers.Dense(64, activation='relu')) \n",
        "CNN_model.add(layers.Dense(6, activation='softmax')) #fully connected layer.\n",
        "#SO WHAT IS GOING TO BE DONE NEXT? \n",
        "#خروجی نهایی باید 6 کلاسه باشد.\n",
        "\n",
        "\n",
        "# CNN_model.summary()\n",
        "CNN_model.compile(optimizer='adam',\n",
        "              loss=tf.keras.losses.SparseCategoricalCrossentropy(from_logits=True),\n",
        "              metrics=['accuracy'])\n",
        "\n",
        "history = CNN_model.fit(tf.convert_to_tensor(X_TRAIN_ASLI), tf.convert_to_tensor(y_train_numeric), epochs=10, \n",
        "                    validation_data=(tf.convert_to_tensor(X_TEST_ASLI), tf.convert_to_tensor(y_test_nimeric)))\n"
      ]
    },
    {
      "cell_type": "markdown",
      "metadata": {
        "id": "r8wMkLT7WVcZ"
      },
      "source": [
        "**the above model underfits.**"
      ]
    },
    {
      "cell_type": "code",
      "execution_count": null,
      "metadata": {
        "colab": {
          "base_uri": "https://localhost:8080/"
        },
        "id": "uB3CAr7XWeKA",
        "outputId": "034c92be-fca5-4832-ac5d-90bb26995626"
      },
      "outputs": [
        {
          "output_type": "stream",
          "name": "stdout",
          "text": [
            "Model: \"sequential_1\"\n",
            "_________________________________________________________________\n",
            " Layer (type)                Output Shape              Param #   \n",
            "=================================================================\n",
            " conv2d_4 (Conv2D)           (None, 98, 98, 100)       1000      \n",
            "                                                                 \n",
            " max_pooling2d_2 (MaxPooling  (None, 49, 49, 100)      0         \n",
            " 2D)                                                             \n",
            "                                                                 \n",
            " conv2d_5 (Conv2D)           (None, 47, 47, 100)       90100     \n",
            "                                                                 \n",
            " conv2d_6 (Conv2D)           (None, 45, 45, 100)       90100     \n",
            "                                                                 \n",
            " max_pooling2d_3 (MaxPooling  (None, 9, 9, 100)        0         \n",
            " 2D)                                                             \n",
            "                                                                 \n",
            " conv2d_7 (Conv2D)           (None, 7, 7, 100)         90100     \n",
            "                                                                 \n",
            " flatten_1 (Flatten)         (None, 4900)              0         \n",
            "                                                                 \n",
            " dense_2 (Dense)             (None, 64)                313664    \n",
            "                                                                 \n",
            " dense_3 (Dense)             (None, 6)                 390       \n",
            "                                                                 \n",
            "=================================================================\n",
            "Total params: 585,354\n",
            "Trainable params: 585,354\n",
            "Non-trainable params: 0\n",
            "_________________________________________________________________\n",
            "Epoch 1/10\n",
            "66/66 [==============================] - 3s 36ms/step - loss: 1.7930 - accuracy: 0.1667 - val_loss: 1.7959 - val_accuracy: 0.1667\n",
            "Epoch 2/10\n",
            "66/66 [==============================] - 2s 33ms/step - loss: 1.7908 - accuracy: 0.1743 - val_loss: 1.7929 - val_accuracy: 0.1889\n",
            "Epoch 3/10\n",
            "66/66 [==============================] - 2s 38ms/step - loss: 1.7707 - accuracy: 0.2205 - val_loss: 1.7854 - val_accuracy: 0.2022\n",
            "Epoch 4/10\n",
            "66/66 [==============================] - 2s 33ms/step - loss: 1.7188 - accuracy: 0.2824 - val_loss: 1.7582 - val_accuracy: 0.2511\n",
            "Epoch 5/10\n",
            "66/66 [==============================] - 2s 33ms/step - loss: 1.6590 - accuracy: 0.3257 - val_loss: 1.7821 - val_accuracy: 0.2689\n",
            "Epoch 6/10\n",
            "66/66 [==============================] - 2s 33ms/step - loss: 1.5567 - accuracy: 0.3729 - val_loss: 1.7578 - val_accuracy: 0.2911\n",
            "Epoch 7/10\n",
            "66/66 [==============================] - 2s 33ms/step - loss: 1.4496 - accuracy: 0.4405 - val_loss: 1.7632 - val_accuracy: 0.2911\n",
            "Epoch 8/10\n",
            "66/66 [==============================] - 2s 33ms/step - loss: 1.3123 - accuracy: 0.5024 - val_loss: 1.7920 - val_accuracy: 0.3622\n",
            "Epoch 9/10\n",
            "66/66 [==============================] - 2s 33ms/step - loss: 1.0892 - accuracy: 0.5914 - val_loss: 1.8588 - val_accuracy: 0.3556\n",
            "Epoch 10/10\n",
            "66/66 [==============================] - 2s 34ms/step - loss: 0.8457 - accuracy: 0.6848 - val_loss: 2.0694 - val_accuracy: 0.3744\n"
          ]
        }
      ],
      "source": [
        "CNN_model = models.Sequential()\n",
        "CNN_model.add(layers.Conv2D(100, (3, 3), activation='relu', input_shape=(100, 100,1))) #this is a CONV2D with RELU\n",
        "CNN_model.add(layers.MaxPooling2D(2,2)) \n",
        "CNN_model.add(layers.Conv2D(100, (3, 3), activation='relu'))\n",
        "CNN_model.add(layers.Conv2D(100, (3, 3), activation='relu')) #RELU Makes CNN nurons die, leaky relu resolves it.\n",
        "CNN_model.add(layers.MaxPooling2D(5, 5))\n",
        "CNN_model.add(layers.Conv2D(100, (3, 3), activation='relu'))\n",
        "\n",
        "\n",
        "\n",
        "CNN_model.add(layers.Flatten())\n",
        "CNN_model.add(layers.Dense(64, activation='relu')) \n",
        "CNN_model.add(layers.Dense(6, activation='softmax')) #fully connected layer.\n",
        "#SO WHAT IS GOING TO BE DONE NEXT? \n",
        "#خروجی نهایی باید 6 کلاسه باشد.\n",
        "\n",
        "\n",
        "CNN_model.summary()\n",
        "CNN_model.compile(optimizer='adam',\n",
        "              loss=tf.keras.losses.SparseCategoricalCrossentropy(from_logits=True),\n",
        "              metrics=['accuracy'])\n",
        "\n",
        "history = CNN_model.fit(tf.convert_to_tensor(X_TRAIN_ASLI), tf.convert_to_tensor(y_train_numeric), epochs=10, \n",
        "                    validation_data=(tf.convert_to_tensor(X_TEST_ASLI), tf.convert_to_tensor(y_test_nimeric)))"
      ]
    },
    {
      "cell_type": "markdown",
      "metadata": {
        "id": "hlr9cECYW4e7"
      },
      "source": [
        "***50% acuracy means a good model, since we are having 6 categories and if we'd like to do it randomly, we would be 16% accurate.***\n"
      ]
    },
    {
      "cell_type": "code",
      "execution_count": null,
      "metadata": {
        "id": "KbQ4D19DX_AR",
        "colab": {
          "base_uri": "https://localhost:8080/",
          "height": 282
        },
        "outputId": "82d15989-fd79-4e33-a66b-2ed6d2a9ec7a"
      },
      "outputs": [
        {
          "output_type": "execute_result",
          "data": {
            "text/plain": [
              "<matplotlib.axes._subplots.AxesSubplot at 0x7fcff66007f0>"
            ]
          },
          "metadata": {},
          "execution_count": 8
        },
        {
          "output_type": "display_data",
          "data": {
            "text/plain": [
              "<Figure size 432x288 with 1 Axes>"
            ],
            "image/png": "[encoded data removed]"
          },
          "metadata": {
            "needs_background": "light"
          }
        }
      ],
      "source": [
        "import pandas as pd\n",
        "matrix_dataframe = pd.DataFrame(history.history)\n",
        "matrix_dataframe[[\"loss\", \"val_loss\"]].plot()"
      ]
    },
    {
      "cell_type": "markdown",
      "metadata": {
        "id": "Q9K-wdi7QLt2"
      },
      "source": [
        "**we are doing things over and over expecting diffrent results, so why not to create a function to report it more clearly?** ⏰"
      ]
    },
    {
      "cell_type": "code",
      "execution_count": null,
      "metadata": {
        "id": "iFsVFCSSQwMG"
      },
      "outputs": [],
      "source": [
        "import pandas as pd\n",
        "def report_model(CNN_model):\n",
        "  CNN_model.summary()\n",
        "  CNN_model.compile(optimizer='adam',\n",
        "              loss=tf.keras.losses.SparseCategoricalCrossentropy(from_logits=True),\n",
        "              metrics=['accuracy'])\n",
        "\n",
        "  history = CNN_model.fit(tf.convert_to_tensor(X_TRAIN_ASLI), tf.convert_to_tensor(y_train_numeric), epochs=10, \n",
        "                    validation_data=(tf.convert_to_tensor(X_TEST_ASLI), tf.convert_to_tensor(y_test_nimeric)))\n",
        "  matrix_dataframe = pd.DataFrame(history.history)\n",
        "  ax1 =  matrix_dataframe[[\"loss\", \"val_loss\"]].plot()\n",
        "  ax1.set_ylabel(\"Loss\")\n",
        "  ax1.set_xlabel(\"epoch NUMBER\")\n",
        "  ax1.legend([\"Train\", \"Validation\"])\n",
        "  ax2 =  matrix_dataframe[[\"accuracy\", \"val_accuracy\"]].plot()\n",
        "  \n",
        "  ax2.set_xlabel(\"epoch NUMBER\")\n",
        "  ax2.set_ylabel(\"Accuracy\")\n",
        "  ax2.legend([\"Train\", \"Validation\"])\n",
        "  "
      ]
    },
    {
      "cell_type": "markdown",
      "metadata": {
        "id": "UymxIDqHUJdD"
      },
      "source": [
        "Adding an extra layer of Leaky relu"
      ]
    },
    {
      "cell_type": "code",
      "execution_count": null,
      "metadata": {
        "colab": {
          "base_uri": "https://localhost:8080/",
          "height": 1000
        },
        "id": "JkLdQGngSiMa",
        "outputId": "74b3d7b9-4767-4293-a963-ec1aa74a8cbb"
      },
      "outputs": [
        {
          "output_type": "stream",
          "name": "stdout",
          "text": [
            "Model: \"sequential_2\"\n",
            "_________________________________________________________________\n",
            " Layer (type)                Output Shape              Param #   \n",
            "=================================================================\n",
            " conv2d_8 (Conv2D)           (None, 98, 98, 100)       1000      \n",
            "                                                                 \n",
            " max_pooling2d_4 (MaxPooling  (None, 49, 49, 100)      0         \n",
            " 2D)                                                             \n",
            "                                                                 \n",
            " conv2d_9 (Conv2D)           (None, 47, 47, 100)       90100     \n",
            "                                                                 \n",
            " conv2d_10 (Conv2D)          (None, 45, 45, 100)       90100     \n",
            "                                                                 \n",
            " max_pooling2d_5 (MaxPooling  (None, 9, 9, 100)        0         \n",
            " 2D)                                                             \n",
            "                                                                 \n",
            " conv2d_11 (Conv2D)          (None, 7, 7, 100)         90100     \n",
            "                                                                 \n",
            " conv2d_12 (Conv2D)          (None, 5, 5, 100)         90100     \n",
            "                                                                 \n",
            " flatten_2 (Flatten)         (None, 2500)              0         \n",
            "                                                                 \n",
            " dense_4 (Dense)             (None, 64)                160064    \n",
            "                                                                 \n",
            " dense_5 (Dense)             (None, 6)                 390       \n",
            "                                                                 \n",
            "=================================================================\n",
            "Total params: 521,854\n",
            "Trainable params: 521,854\n",
            "Non-trainable params: 0\n",
            "_________________________________________________________________\n",
            "Epoch 1/10\n"
          ]
        },
        {
          "output_type": "stream",
          "name": "stderr",
          "text": [
            "/usr/local/lib/python3.8/dist-packages/tensorflow/python/util/dispatch.py:1082: UserWarning: \"`sparse_categorical_crossentropy` received `from_logits=True`, but the `output` argument was produced by a sigmoid or softmax activation and thus does not represent logits. Was this intended?\"\n",
            "  return dispatch_target(*args, **kwargs)\n"
          ]
        },
        {
          "output_type": "stream",
          "name": "stdout",
          "text": [
            "66/66 [==============================] - 3s 37ms/step - loss: 1.7949 - accuracy: 0.1467 - val_loss: 1.7918 - val_accuracy: 0.1667\n",
            "Epoch 2/10\n",
            "66/66 [==============================] - 2s 34ms/step - loss: 1.7921 - accuracy: 0.1605 - val_loss: 1.7918 - val_accuracy: 0.1667\n",
            "Epoch 3/10\n",
            "66/66 [==============================] - 3s 39ms/step - loss: 1.7920 - accuracy: 0.1495 - val_loss: 1.7918 - val_accuracy: 0.1667\n",
            "Epoch 4/10\n",
            "66/66 [==============================] - 3s 39ms/step - loss: 1.7924 - accuracy: 0.1500 - val_loss: 1.7917 - val_accuracy: 0.1867\n",
            "Epoch 5/10\n",
            "66/66 [==============================] - 2s 34ms/step - loss: 1.7916 - accuracy: 0.1648 - val_loss: 1.7889 - val_accuracy: 0.1889\n",
            "Epoch 6/10\n",
            "66/66 [==============================] - 2s 34ms/step - loss: 1.7881 - accuracy: 0.1890 - val_loss: 1.7919 - val_accuracy: 0.1667\n",
            "Epoch 7/10\n",
            "66/66 [==============================] - 3s 38ms/step - loss: 1.7926 - accuracy: 0.1667 - val_loss: 1.7926 - val_accuracy: 0.1667\n",
            "Epoch 8/10\n",
            "66/66 [==============================] - 2s 34ms/step - loss: 1.7931 - accuracy: 0.1576 - val_loss: 1.7918 - val_accuracy: 0.1733\n",
            "Epoch 9/10\n",
            "66/66 [==============================] - 3s 39ms/step - loss: 1.7921 - accuracy: 0.1567 - val_loss: 1.7918 - val_accuracy: 0.1667\n",
            "Epoch 10/10\n",
            "66/66 [==============================] - 2s 34ms/step - loss: 1.7923 - accuracy: 0.1557 - val_loss: 1.7918 - val_accuracy: 0.1667\n"
          ]
        },
        {
          "output_type": "display_data",
          "data": {
            "text/plain": [
              "<Figure size 432x288 with 1 Axes>"
            ],
            "image/png": "[encoded data removed]"
          },
          "metadata": {
            "needs_background": "light"
          }
        },
        {
          "output_type": "display_data",
          "data": {
            "text/plain": [
              "<Figure size 432x288 with 1 Axes>"
            ],
            "image/png": "[encoded data removed]"
          },
          "metadata": {
            "needs_background": "light"
          }
        }
      ],
      "source": [
        "\n",
        "m1 = models.Sequential()\n",
        "m1.add(layers.Conv2D(100, (3, 3), activation='relu', input_shape=(100, 100,1))) #this is a CONV2D with RELU\n",
        "m1.add(layers.MaxPooling2D(2,2)) \n",
        "m1.add(layers.Conv2D(100, (3, 3), activation='relu'))\n",
        "m1.add(layers.Conv2D(100, (3, 3), activation='relu')) #RELU Makes CNN nurons die, leaky relu resolves it.\n",
        "m1.add(layers.MaxPooling2D(5, 5))\n",
        "m1.add(layers.Conv2D(100, (3, 3), activation='relu'))\n",
        "m1.add(layers.Conv2D(100, (3, 3), activation='leaky_relu'))\n",
        "m1.add(layers.Flatten())\n",
        "m1.add(layers.Dense(64, activation='relu')) \n",
        "m1.add(layers.Dense(6, activation='softmax')) \n",
        "report_model(m1)\n"
      ]
    },
    {
      "cell_type": "markdown",
      "source": [
        "**Since prev model overfits, we'd like to reduce layers.**"
      ],
      "metadata": {
        "id": "F4sSZV-28Qbx"
      }
    },
    {
      "cell_type": "code",
      "source": [
        "m1 = models.Sequential()\n",
        "m1.add(layers.Conv2D(100, (3, 3), activation='relu', input_shape=(100, 100,1))) #this is a CONV2D with RELU\n",
        "m1.add(layers.MaxPooling2D(2,2)) \n",
        "m1.add(layers.Conv2D(100, (4,4), activation='relu'))\n",
        "# m1.add(layers.Conv2D(100, (3, 3), activation='relu'))\n",
        "# m1.add(layers.MaxPooling2D(5, 5))\n",
        "m1.add(layers.Conv2D(100, (3, 3), activation='relu'))\n",
        "# m1.add(layers.Conv2D(100, (3, 3), activation='leaky_relu'))\n",
        "m1.add(layers.Flatten())\n",
        "m1.add(layers.Dense(64, activation='relu')) \n",
        "m1.add(layers.Dense(6, activation='softmax')) \n",
        "m1.add(layers.Dropout(0.2))\n",
        "report_model(m1)"
      ],
      "metadata": {
        "colab": {
          "base_uri": "https://localhost:8080/",
          "height": 1000
        },
        "id": "iac3bHdz0Gbe",
        "outputId": "30579b7f-3345-4fb9-a6ab-42ad2f569249"
      },
      "execution_count": null,
      "outputs": [
        {
          "output_type": "stream",
          "name": "stdout",
          "text": [
            "Model: \"sequential_3\"\n",
            "_________________________________________________________________\n",
            " Layer (type)                Output Shape              Param #   \n",
            "=================================================================\n",
            " conv2d_13 (Conv2D)          (None, 98, 98, 100)       1000      \n",
            "                                                                 \n",
            " max_pooling2d_6 (MaxPooling  (None, 49, 49, 100)      0         \n",
            " 2D)                                                             \n",
            "                                                                 \n",
            " conv2d_14 (Conv2D)          (None, 46, 46, 100)       160100    \n",
            "                                                                 \n",
            " conv2d_15 (Conv2D)          (None, 44, 44, 100)       90100     \n",
            "                                                                 \n",
            " flatten_3 (Flatten)         (None, 193600)            0         \n",
            "                                                                 \n",
            " dense_6 (Dense)             (None, 64)                12390464  \n",
            "                                                                 \n",
            " dense_7 (Dense)             (None, 6)                 390       \n",
            "                                                                 \n",
            "=================================================================\n",
            "Total params: 12,642,054\n",
            "Trainable params: 12,642,054\n",
            "Non-trainable params: 0\n",
            "_________________________________________________________________\n",
            "Epoch 1/10\n"
          ]
        },
        {
          "output_type": "stream",
          "name": "stderr",
          "text": [
            "/usr/local/lib/python3.8/dist-packages/tensorflow/python/util/dispatch.py:1082: UserWarning: \"`sparse_categorical_crossentropy` received `from_logits=True`, but the `output` argument was produced by a sigmoid or softmax activation and thus does not represent logits. Was this intended?\"\n",
            "  return dispatch_target(*args, **kwargs)\n"
          ]
        },
        {
          "output_type": "stream",
          "name": "stdout",
          "text": [
            "66/66 [==============================] - 4s 51ms/step - loss: 1.8729 - accuracy: 0.1705 - val_loss: 1.7877 - val_accuracy: 0.2111\n",
            "Epoch 2/10\n",
            "66/66 [==============================] - 3s 41ms/step - loss: 1.7823 - accuracy: 0.2124 - val_loss: 1.7833 - val_accuracy: 0.2211\n",
            "Epoch 3/10\n",
            "66/66 [==============================] - 3s 45ms/step - loss: 1.7191 - accuracy: 0.2838 - val_loss: 1.7429 - val_accuracy: 0.2589\n",
            "Epoch 4/10\n",
            "66/66 [==============================] - 3s 41ms/step - loss: 1.4927 - accuracy: 0.4176 - val_loss: 1.7663 - val_accuracy: 0.2867\n",
            "Epoch 5/10\n",
            "66/66 [==============================] - 3s 45ms/step - loss: 1.0457 - accuracy: 0.6171 - val_loss: 2.0046 - val_accuracy: 0.3544\n",
            "Epoch 6/10\n",
            "66/66 [==============================] - 3s 41ms/step - loss: 0.5160 - accuracy: 0.8324 - val_loss: 2.5849 - val_accuracy: 0.3656\n",
            "Epoch 7/10\n",
            "66/66 [==============================] - 3s 46ms/step - loss: 0.1940 - accuracy: 0.9486 - val_loss: 3.3142 - val_accuracy: 0.3567\n",
            "Epoch 8/10\n",
            "66/66 [==============================] - 3s 41ms/step - loss: 0.1465 - accuracy: 0.9762 - val_loss: 3.6105 - val_accuracy: 0.3656\n",
            "Epoch 9/10\n",
            "66/66 [==============================] - 3s 41ms/step - loss: 0.0922 - accuracy: 0.9876 - val_loss: 4.2640 - val_accuracy: 0.3578\n",
            "Epoch 10/10\n",
            "66/66 [==============================] - 3s 41ms/step - loss: 0.0633 - accuracy: 0.9890 - val_loss: 3.6601 - val_accuracy: 0.3589\n"
          ]
        },
        {
          "output_type": "display_data",
          "data": {
            "text/plain": [
              "<Figure size 432x288 with 1 Axes>"
            ],
            "image/png": "[encoded data removed]"
          },
          "metadata": {
            "needs_background": "light"
          }
        },
        {
          "output_type": "display_data",
          "data": {
            "text/plain": [
              "<Figure size 432x288 with 1 Axes>"
            ],
            "image/png": "[encoded data removed]"
          },
          "metadata": {
            "needs_background": "light"
          }
        }
      ]
    },
    {
      "cell_type": "markdown",
      "source": [
        "**Checking if Smaller conv layer and then increasing it to high will help or Not**"
      ],
      "metadata": {
        "id": "1bZ5t5kw9J3u"
      }
    },
    {
      "cell_type": "code",
      "source": [
        "m1 = models.Sequential()\n",
        "m1.add(layers.Conv2D(100, (3, 3), activation='relu', input_shape=(100, 100,1))) #this is a CONV2D with RELU\n",
        "m1.add(layers.MaxPooling2D(2,2)) \n",
        "m1.add(layers.Conv2D(100, (2,2), activation='relu'))\n",
        "m1.add(layers.Conv2D(100, (3,3), activation='relu'))\n",
        "m1.add(layers.Conv2D(100, (4,4), activation='relu'))\n",
        "# m1.add(layers.Conv2D(100, (3, 3), activation='leaky_relu'))\n",
        "m1.add(layers.Flatten())\n",
        "m1.add(layers.Dense(64, activation='relu')) \n",
        "m1.add(layers.Dense(6, activation='softmax')) \n",
        "report_model(m1)"
      ],
      "metadata": {
        "colab": {
          "base_uri": "https://localhost:8080/",
          "height": 1000
        },
        "id": "AfTVM1K69JPB",
        "outputId": "27afb73a-d51f-4753-d590-8fef015d0e9e"
      },
      "execution_count": null,
      "outputs": [
        {
          "output_type": "stream",
          "name": "stdout",
          "text": [
            "Model: \"sequential_22\"\n",
            "_________________________________________________________________\n",
            " Layer (type)                Output Shape              Param #   \n",
            "=================================================================\n",
            " conv2d_80 (Conv2D)          (None, 98, 98, 100)       1000      \n",
            "                                                                 \n",
            " max_pooling2d_32 (MaxPoolin  (None, 49, 49, 100)      0         \n",
            " g2D)                                                            \n",
            "                                                                 \n",
            " conv2d_81 (Conv2D)          (None, 48, 48, 100)       40100     \n",
            "                                                                 \n",
            " conv2d_82 (Conv2D)          (None, 46, 46, 100)       90100     \n",
            "                                                                 \n",
            " conv2d_83 (Conv2D)          (None, 43, 43, 100)       160100    \n",
            "                                                                 \n",
            " flatten_20 (Flatten)        (None, 184900)            0         \n",
            "                                                                 \n",
            " dense_40 (Dense)            (None, 64)                11833664  \n",
            "                                                                 \n",
            " dense_41 (Dense)            (None, 6)                 390       \n",
            "                                                                 \n",
            "=================================================================\n",
            "Total params: 12,125,354\n",
            "Trainable params: 12,125,354\n",
            "Non-trainable params: 0\n",
            "_________________________________________________________________\n",
            "Epoch 1/10\n"
          ]
        },
        {
          "output_type": "stream",
          "name": "stderr",
          "text": [
            "/usr/local/lib/python3.8/dist-packages/tensorflow/python/util/dispatch.py:1082: UserWarning: \"`sparse_categorical_crossentropy` received `from_logits=True`, but the `output` argument was produced by a sigmoid or softmax activation and thus does not represent logits. Was this intended?\"\n",
            "  return dispatch_target(*args, **kwargs)\n"
          ]
        },
        {
          "output_type": "stream",
          "name": "stdout",
          "text": [
            "66/66 [==============================] - 4s 59ms/step - loss: 30.3310 - accuracy: 0.1643 - val_loss: 1.8136 - val_accuracy: 0.1611\n",
            "Epoch 2/10\n",
            "66/66 [==============================] - 3s 49ms/step - loss: 1.7672 - accuracy: 0.2052 - val_loss: 1.7787 - val_accuracy: 0.2178\n",
            "Epoch 3/10\n",
            "66/66 [==============================] - 3s 49ms/step - loss: 1.7028 - accuracy: 0.2643 - val_loss: 1.8883 - val_accuracy: 0.2389\n",
            "Epoch 4/10\n",
            "66/66 [==============================] - 3s 49ms/step - loss: 1.6574 - accuracy: 0.2843 - val_loss: 1.7931 - val_accuracy: 0.1678\n",
            "Epoch 5/10\n",
            "66/66 [==============================] - 3s 53ms/step - loss: 1.6738 - accuracy: 0.2757 - val_loss: 1.8777 - val_accuracy: 0.2644\n",
            "Epoch 6/10\n",
            "66/66 [==============================] - 4s 54ms/step - loss: 1.4544 - accuracy: 0.4052 - val_loss: 2.0686 - val_accuracy: 0.2900\n",
            "Epoch 7/10\n",
            "66/66 [==============================] - 4s 54ms/step - loss: 1.2680 - accuracy: 0.4729 - val_loss: 2.0149 - val_accuracy: 0.2811\n",
            "Epoch 8/10\n",
            "66/66 [==============================] - 4s 54ms/step - loss: 1.0850 - accuracy: 0.5657 - val_loss: 2.4399 - val_accuracy: 0.2822\n",
            "Epoch 9/10\n",
            "66/66 [==============================] - 3s 51ms/step - loss: 0.9209 - accuracy: 0.6343 - val_loss: 2.8276 - val_accuracy: 0.2833\n",
            "Epoch 10/10\n",
            "66/66 [==============================] - 4s 54ms/step - loss: 0.8222 - accuracy: 0.6714 - val_loss: 2.7847 - val_accuracy: 0.2978\n"
          ]
        },
        {
          "output_type": "display_data",
          "data": {
            "text/plain": [
              "<Figure size 432x288 with 1 Axes>"
            ],
            "image/png": "[encoded data removed]"
          },
          "metadata": {
            "needs_background": "light"
          }
        },
        {
          "output_type": "display_data",
          "data": {
            "text/plain": [
              "<Figure size 432x288 with 1 Axes>"
            ],
            "image/png": "[encoded data removed]"
          },
          "metadata": {
            "needs_background": "light"
          }
        }
      ]
    },
    {
      "cell_type": "code",
      "source": [],
      "metadata": {
        "id": "tQyQBjS-BNkF"
      },
      "execution_count": null,
      "outputs": []
    },
    {
      "cell_type": "markdown",
      "source": [
        "Installing mlflow"
      ],
      "metadata": {
        "id": "Gl6syTXClmXs"
      }
    },
    {
      "cell_type": "code",
      "source": [
        "pip install mlflow"
      ],
      "metadata": {
        "id": "oQHXV19lBNqU",
        "colab": {
          "base_uri": "https://localhost:8080/",
          "height": 1000
        },
        "outputId": "ae297d0b-3882-4c08-fa2c-ad6a8d3a9123"
      },
      "execution_count": null,
      "outputs": [
        {
          "output_type": "stream",
          "name": "stdout",
          "text": [
            "Looking in indexes: https://pypi.org/simple, https://us-python.pkg.dev/colab-wheels/public/simple/\n",
            "Collecting mlflow\n",
            "  Downloading mlflow-2.1.1-py3-none-any.whl (16.7 MB)\n",
            "\u001b[2K     \u001b[90m━━━━━━━━━━━━━━━━━━━━━━━━━━━━━━━━━━━━━━━━\u001b[0m \u001b[32m16.7/16.7 MB\u001b[0m \u001b[31m87.8 MB/s\u001b[0m eta \u001b[36m0:00:00\u001b[0m\n",
            "\u001b[?25hCollecting databricks-cli<1,>=0.8.7\n",
            "  Downloading databricks-cli-0.17.4.tar.gz (82 kB)\n",
            "\u001b[2K     \u001b[90m━━━━━━━━━━━━━━━━━━━━━━━━━━━━━━━━━━━━━━━━\u001b[0m \u001b[32m82.3/82.3 KB\u001b[0m \u001b[31m11.6 MB/s\u001b[0m eta \u001b[36m0:00:00\u001b[0m\n",
            "\u001b[?25h  Preparing metadata (setup.py) ... \u001b[?25l\u001b[?25hdone\n",
            "Requirement already satisfied: packaging<23 in /usr/local/lib/python3.8/dist-packages (from mlflow) (21.3)\n",
            "Requirement already satisfied: pyyaml<7,>=5.1 in /usr/local/lib/python3.8/dist-packages (from mlflow) (6.0)\n",
            "Collecting gitpython<4,>=2.1.0\n",
            "  Downloading GitPython-3.1.30-py3-none-any.whl (184 kB)\n",
            "\u001b[2K     \u001b[90m━━━━━━━━━━━━━━━━━━━━━━━━━━━━━━━━━━━━━━\u001b[0m \u001b[32m184.0/184.0 KB\u001b[0m \u001b[31m25.4 MB/s\u001b[0m eta \u001b[36m0:00:00\u001b[0m\n",
            "\u001b[?25hRequirement already satisfied: protobuf<5,>=3.12.0 in /usr/local/lib/python3.8/dist-packages (from mlflow) (3.19.6)\n",
            "Collecting docker<7,>=4.0.0\n",
            "  Downloading docker-6.0.1-py3-none-any.whl (147 kB)\n",
            "\u001b[2K     \u001b[90m━━━━━━━━━━━━━━━━━━━━━━━━━━━━━━━━━━━━━━\u001b[0m \u001b[32m147.5/147.5 KB\u001b[0m \u001b[31m18.6 MB/s\u001b[0m eta \u001b[36m0:00:00\u001b[0m\n",
            "\u001b[?25hRequirement already satisfied: pandas<2 in /usr/local/lib/python3.8/dist-packages (from mlflow) (1.3.5)\n",
            "Requirement already satisfied: scikit-learn<2 in /usr/local/lib/python3.8/dist-packages (from mlflow) (1.0.2)\n",
            "Collecting importlib-metadata!=4.7.0,<6,>=3.7.0\n",
            "  Downloading importlib_metadata-5.2.0-py3-none-any.whl (21 kB)\n",
            "Requirement already satisfied: cloudpickle<3 in /usr/local/lib/python3.8/dist-packages (from mlflow) (2.2.0)\n",
            "Requirement already satisfied: scipy<2 in /usr/local/lib/python3.8/dist-packages (from mlflow) (1.7.3)\n",
            "Requirement already satisfied: pyarrow<11,>=4.0.0 in /usr/local/lib/python3.8/dist-packages (from mlflow) (9.0.0)\n",
            "Requirement already satisfied: entrypoints<1 in /usr/local/lib/python3.8/dist-packages (from mlflow) (0.4)\n",
            "Requirement already satisfied: sqlparse<1,>=0.4.0 in /usr/local/lib/python3.8/dist-packages (from mlflow) (0.4.3)\n",
            "Requirement already satisfied: sqlalchemy<2,>=1.4.0 in /usr/local/lib/python3.8/dist-packages (from mlflow) (1.4.46)\n",
            "Requirement already satisfied: Jinja2<4,>=2.11 in /usr/local/lib/python3.8/dist-packages (from mlflow) (2.11.3)\n",
            "Collecting gunicorn<21\n",
            "  Downloading gunicorn-20.1.0-py3-none-any.whl (79 kB)\n",
            "\u001b[2K     \u001b[90m━━━━━━━━━━━━━━━━━━━━━━━━━━━━━━━━━━━━━━━━\u001b[0m \u001b[32m79.5/79.5 KB\u001b[0m \u001b[31m9.8 MB/s\u001b[0m eta \u001b[36m0:00:00\u001b[0m\n",
            "\u001b[?25hCollecting querystring-parser<2\n",
            "  Downloading querystring_parser-1.2.4-py2.py3-none-any.whl (7.9 kB)\n",
            "Collecting alembic<2\n",
            "  Downloading alembic-1.9.2-py3-none-any.whl (210 kB)\n",
            "\u001b[2K     \u001b[90m━━━━━━━━━━━━━━━━━━━━━━━━━━━━━━━━━━━━━━\u001b[0m \u001b[32m210.6/210.6 KB\u001b[0m \u001b[31m25.4 MB/s\u001b[0m eta \u001b[36m0:00:00\u001b[0m\n",
            "\u001b[?25hRequirement already satisfied: markdown<4,>=3.3 in /usr/local/lib/python3.8/dist-packages (from mlflow) (3.4.1)\n",
            "Requirement already satisfied: requests<3,>=2.17.3 in /usr/local/lib/python3.8/dist-packages (from mlflow) (2.25.1)\n",
            "Requirement already satisfied: Flask<3 in /usr/local/lib/python3.8/dist-packages (from mlflow) (1.1.4)\n",
            "Requirement already satisfied: click<9,>=7.0 in /usr/local/lib/python3.8/dist-packages (from mlflow) (7.1.2)\n",
            "Requirement already satisfied: numpy<2 in /usr/local/lib/python3.8/dist-packages (from mlflow) (1.21.6)\n",
            "Collecting shap<1,>=0.40\n",
            "  Downloading shap-0.41.0-cp38-cp38-manylinux_2_12_x86_64.manylinux2010_x86_64.whl (575 kB)\n",
            "\u001b[2K     \u001b[90m━━━━━━━━━━━━━━━━━━━━━━━━━━━━━━━━━━━━━━\u001b[0m \u001b[32m575.9/575.9 KB\u001b[0m \u001b[31m56.5 MB/s\u001b[0m eta \u001b[36m0:00:00\u001b[0m\n",
            "\u001b[?25hRequirement already satisfied: pytz<2023 in /usr/local/lib/python3.8/dist-packages (from mlflow) (2022.7)\n",
            "Requirement already satisfied: matplotlib<4 in /usr/local/lib/python3.8/dist-packages (from mlflow) (3.2.2)\n",
            "Collecting Mako\n",
            "  Downloading Mako-1.2.4-py3-none-any.whl (78 kB)\n",
            "\u001b[2K     \u001b[90m━━━━━━━━━━━━━━━━━━━━━━━━━━━━━━━━━━━━━━━━\u001b[0m \u001b[32m78.7/78.7 KB\u001b[0m \u001b[31m11.6 MB/s\u001b[0m eta \u001b[36m0:00:00\u001b[0m\n",
            "\u001b[?25hRequirement already satisfied: importlib-resources in /usr/local/lib/python3.8/dist-packages (from alembic<2->mlflow) (5.10.2)\n",
            "Collecting pyjwt>=1.7.0\n",
            "  Downloading PyJWT-2.6.0-py3-none-any.whl (20 kB)\n",
            "Requirement already satisfied: oauthlib>=3.1.0 in /usr/local/lib/python3.8/dist-packages (from databricks-cli<1,>=0.8.7->mlflow) (3.2.2)\n",
            "Requirement already satisfied: tabulate>=0.7.7 in /usr/local/lib/python3.8/dist-packages (from databricks-cli<1,>=0.8.7->mlflow) (0.8.10)\n",
            "Requirement already satisfied: six>=1.10.0 in /usr/local/lib/python3.8/dist-packages (from databricks-cli<1,>=0.8.7->mlflow) (1.15.0)\n",
            "Collecting websocket-client>=0.32.0\n",
            "  Downloading websocket_client-1.4.2-py3-none-any.whl (55 kB)\n",
            "\u001b[2K     \u001b[90m━━━━━━━━━━━━━━━━━━━━━━━━━━━━━━━━━━━━━━━━\u001b[0m \u001b[32m55.3/55.3 KB\u001b[0m \u001b[31m6.2 MB/s\u001b[0m eta \u001b[36m0:00:00\u001b[0m\n",
            "\u001b[?25hCollecting requests<3,>=2.17.3\n",
            "  Downloading requests-2.28.2-py3-none-any.whl (62 kB)\n",
            "\u001b[2K     \u001b[90m━━━━━━━━━━━━━━━━━━━━━━━━━━━━━━━━━━━━━━━━\u001b[0m \u001b[32m62.8/62.8 KB\u001b[0m \u001b[31m7.0 MB/s\u001b[0m eta \u001b[36m0:00:00\u001b[0m\n",
            "\u001b[?25hCollecting urllib3>=1.26.0\n",
            "  Downloading urllib3-1.26.14-py2.py3-none-any.whl (140 kB)\n",
            "\u001b[2K     \u001b[90m━━━━━━━━━━━━━━━━━━━━━━━━━━━━━━━━━━━━━━\u001b[0m \u001b[32m140.6/140.6 KB\u001b[0m \u001b[31m20.9 MB/s\u001b[0m eta \u001b[36m0:00:00\u001b[0m\n",
            "\u001b[?25hRequirement already satisfied: itsdangerous<2.0,>=0.24 in /usr/local/lib/python3.8/dist-packages (from Flask<3->mlflow) (1.1.0)\n",
            "Requirement already satisfied: Werkzeug<2.0,>=0.15 in /usr/local/lib/python3.8/dist-packages (from Flask<3->mlflow) (1.0.1)\n",
            "Collecting gitdb<5,>=4.0.1\n",
            "  Downloading gitdb-4.0.10-py3-none-any.whl (62 kB)\n",
            "\u001b[2K     \u001b[90m━━━━━━━━━━━━━━━━━━━━━━━━━━━━━━━━━━━━━━━━\u001b[0m \u001b[32m62.7/62.7 KB\u001b[0m \u001b[31m8.8 MB/s\u001b[0m eta \u001b[36m0:00:00\u001b[0m\n",
            "\u001b[?25hRequirement already satisfied: setuptools>=3.0 in /usr/local/lib/python3.8/dist-packages (from gunicorn<21->mlflow) (57.4.0)\n",
            "Requirement already satisfied: zipp>=0.5 in /usr/local/lib/python3.8/dist-packages (from importlib-metadata!=4.7.0,<6,>=3.7.0->mlflow) (3.11.0)\n",
            "Requirement already satisfied: MarkupSafe>=0.23 in /usr/local/lib/python3.8/dist-packages (from Jinja2<4,>=2.11->mlflow) (2.0.1)\n",
            "Requirement already satisfied: python-dateutil>=2.1 in /usr/local/lib/python3.8/dist-packages (from matplotlib<4->mlflow) (2.8.2)\n",
            "Requirement already satisfied: kiwisolver>=1.0.1 in /usr/local/lib/python3.8/dist-packages (from matplotlib<4->mlflow) (1.4.4)\n",
            "Requirement already satisfied: cycler>=0.10 in /usr/local/lib/python3.8/dist-packages (from matplotlib<4->mlflow) (0.11.0)\n",
            "Requirement already satisfied: pyparsing!=2.0.4,!=2.1.2,!=2.1.6,>=2.0.1 in /usr/local/lib/python3.8/dist-packages (from matplotlib<4->mlflow) (3.0.9)\n",
            "Requirement already satisfied: charset-normalizer<4,>=2 in /usr/local/lib/python3.8/dist-packages (from requests<3,>=2.17.3->mlflow) (2.1.1)\n",
            "Requirement already satisfied: idna<4,>=2.5 in /usr/local/lib/python3.8/dist-packages (from requests<3,>=2.17.3->mlflow) (2.10)\n",
            "Requirement already satisfied: certifi>=2017.4.17 in /usr/local/lib/python3.8/dist-packages (from requests<3,>=2.17.3->mlflow) (2022.12.7)\n",
            "Requirement already satisfied: threadpoolctl>=2.0.0 in /usr/local/lib/python3.8/dist-packages (from scikit-learn<2->mlflow) (3.1.0)\n",
            "Requirement already satisfied: joblib>=0.11 in /usr/local/lib/python3.8/dist-packages (from scikit-learn<2->mlflow) (1.2.0)\n",
            "Requirement already satisfied: numba in /usr/local/lib/python3.8/dist-packages (from shap<1,>=0.40->mlflow) (0.56.4)\n",
            "Requirement already satisfied: tqdm>4.25.0 in /usr/local/lib/python3.8/dist-packages (from shap<1,>=0.40->mlflow) (4.64.1)\n",
            "Collecting slicer==0.0.7\n",
            "  Downloading slicer-0.0.7-py3-none-any.whl (14 kB)\n",
            "Requirement already satisfied: greenlet!=0.4.17 in /usr/local/lib/python3.8/dist-packages (from sqlalchemy<2,>=1.4.0->mlflow) (2.0.1)\n",
            "Collecting smmap<6,>=3.0.1\n",
            "  Downloading smmap-5.0.0-py3-none-any.whl (24 kB)\n",
            "Requirement already satisfied: llvmlite<0.40,>=0.39.0dev0 in /usr/local/lib/python3.8/dist-packages (from numba->shap<1,>=0.40->mlflow) (0.39.1)\n",
            "Building wheels for collected packages: databricks-cli\n",
            "  Building wheel for databricks-cli (setup.py) ... \u001b[?25l\u001b[?25hdone\n",
            "  Created wheel for databricks-cli: filename=databricks_cli-0.17.4-py3-none-any.whl size=142894 sha256=b41ea71cfdd04fcf405e23772d9e9fcabb0c5565df5048ffd0c62518e95bd5c5\n",
            "  Stored in directory: /root/.cache/pip/wheels/48/7c/6e/4bf2c1748c7ecf994ca951591de81674ed6bf633e1e337d873\n",
            "Successfully built databricks-cli\n",
            "Installing collected packages: websocket-client, urllib3, smmap, slicer, querystring-parser, pyjwt, Mako, importlib-metadata, gunicorn, requests, gitdb, alembic, shap, gitpython, docker, databricks-cli, mlflow\n",
            "  Attempting uninstall: urllib3\n",
            "    Found existing installation: urllib3 1.24.3\n",
            "    Uninstalling urllib3-1.24.3:\n",
            "      Successfully uninstalled urllib3-1.24.3\n",
            "  Attempting uninstall: importlib-metadata\n",
            "    Found existing installation: importlib-metadata 6.0.0\n",
            "    Uninstalling importlib-metadata-6.0.0:\n",
            "      Successfully uninstalled importlib-metadata-6.0.0\n",
            "  Attempting uninstall: requests\n",
            "    Found existing installation: requests 2.25.1\n",
            "    Uninstalling requests-2.25.1:\n",
            "      Successfully uninstalled requests-2.25.1\n",
            "Successfully installed Mako-1.2.4 alembic-1.9.2 databricks-cli-0.17.4 docker-6.0.1 gitdb-4.0.10 gitpython-3.1.30 gunicorn-20.1.0 importlib-metadata-5.2.0 mlflow-2.1.1 pyjwt-2.6.0 querystring-parser-1.2.4 requests-2.28.2 shap-0.41.0 slicer-0.0.7 smmap-5.0.0 urllib3-1.26.14 websocket-client-1.4.2\n"
          ]
        },
        {
          "output_type": "display_data",
          "data": {
            "application/vnd.colab-display-data+json": {
              "pip_warning": {
                "packages": [
                  "requests",
                  "urllib3"
                ]
              }
            }
          },
          "metadata": {}
        }
      ]
    },
    {
      "cell_type": "code",
      "source": [
        "import mlflow\n",
        "import pandas as pd\n",
        "def report_model_mlflw(CNN_model):\n",
        "  CNN_model.summary()\n",
        "  CNN_model.compile(optimizer='adam',\n",
        "              loss=tf.keras.losses.SparseCategoricalCrossentropy(from_logits=True),\n",
        "              metrics=['accuracy'])\n",
        "\n",
        "  history = CNN_model.fit(tf.convert_to_tensor(X_TRAIN_ASLI), tf.convert_to_tensor(y_train_numeric), epochs=10, \n",
        "                    validation_data=(tf.convert_to_tensor(X_TEST_ASLI), tf.convert_to_tensor(y_test_nimeric)))\n",
        "  matrix_dataframe = pd.DataFrame(history.history)\n",
        "  matrix_dataframe[[\"loss\", \"val_loss\"]].plot()\n",
        "  # mlflow.log_text(\"hi\")\n",
        "  # mlflow.log_metrics(\"accuracy:\" + matrix_dataframe([\"accuracy\"]))\n",
        "  matrix_dataframe[[\"accuracy\", \"val_accuracy\"]].plot()\n",
        "\n",
        "with mlflow.start_run():\n",
        "      m1 = models.Sequential()\n",
        "      m1.add(layers.Conv2D(100, (3, 3), activation='relu', input_shape=(100, 100,1))) #this is a CONV2D with RELU\n",
        "      m1.add(layers.MaxPooling2D(2,2)) \n",
        "      m1.add(layers.Conv2D(100, (2,2), activation='relu'))\n",
        "      m1.add(layers.Conv2D(100, (3,3), activation='relu'))\n",
        "      m1.add(layers.Conv2D(100, (4,4), activation='relu'))\n",
        "      # m1.add(layers.Conv2D(100, (3, 3), activation='leaky_relu'))\n",
        "      m1.add(layers.Flatten())\n",
        "      m1.add(layers.Dense(64, activation='relu')) \n",
        "      m1.add(layers.Dense(6, activation='softmax')) \n",
        "      report_model_mlflw(m1)\n"
      ],
      "metadata": {
        "colab": {
          "base_uri": "https://localhost:8080/",
          "height": 1000
        },
        "id": "YuW-nvVfltcy",
        "outputId": "aa0cdf4b-3eca-4573-c1b5-7721e5c2fc4c"
      },
      "execution_count": null,
      "outputs": [
        {
          "output_type": "stream",
          "name": "stdout",
          "text": [
            "Model: \"sequential_5\"\n",
            "_________________________________________________________________\n",
            " Layer (type)                Output Shape              Param #   \n",
            "=================================================================\n",
            " conv2d_20 (Conv2D)          (None, 98, 98, 100)       1000      \n",
            "                                                                 \n",
            " max_pooling2d_8 (MaxPooling  (None, 49, 49, 100)      0         \n",
            " 2D)                                                             \n",
            "                                                                 \n",
            " conv2d_21 (Conv2D)          (None, 48, 48, 100)       40100     \n",
            "                                                                 \n",
            " conv2d_22 (Conv2D)          (None, 46, 46, 100)       90100     \n",
            "                                                                 \n",
            " conv2d_23 (Conv2D)          (None, 43, 43, 100)       160100    \n",
            "                                                                 \n",
            " flatten_5 (Flatten)         (None, 184900)            0         \n",
            "                                                                 \n",
            " dense_10 (Dense)            (None, 64)                11833664  \n",
            "                                                                 \n",
            " dense_11 (Dense)            (None, 6)                 390       \n",
            "                                                                 \n",
            "=================================================================\n",
            "Total params: 12,125,354\n",
            "Trainable params: 12,125,354\n",
            "Non-trainable params: 0\n",
            "_________________________________________________________________\n",
            "Epoch 1/10\n"
          ]
        },
        {
          "output_type": "stream",
          "name": "stderr",
          "text": [
            "/usr/local/lib/python3.8/dist-packages/tensorflow/python/util/dispatch.py:1082: UserWarning: \"`sparse_categorical_crossentropy` received `from_logits=True`, but the `output` argument was produced by a sigmoid or softmax activation and thus does not represent logits. Was this intended?\"\n",
            "  return dispatch_target(*args, **kwargs)\n"
          ]
        },
        {
          "output_type": "stream",
          "name": "stdout",
          "text": [
            "66/66 [==============================] - 4s 51ms/step - loss: 1.8173 - accuracy: 0.1548 - val_loss: 1.7918 - val_accuracy: 0.1667\n",
            "Epoch 2/10\n",
            "66/66 [==============================] - 3s 48ms/step - loss: 1.7919 - accuracy: 0.1600 - val_loss: 1.7918 - val_accuracy: 0.1667\n",
            "Epoch 3/10\n",
            "66/66 [==============================] - 3s 52ms/step - loss: 1.7919 - accuracy: 0.1610 - val_loss: 1.7918 - val_accuracy: 0.1667\n",
            "Epoch 4/10\n",
            "66/66 [==============================] - 4s 54ms/step - loss: 1.7919 - accuracy: 0.1476 - val_loss: 1.7918 - val_accuracy: 0.1667\n",
            "Epoch 5/10\n",
            "66/66 [==============================] - 3s 53ms/step - loss: 1.7919 - accuracy: 0.1633 - val_loss: 1.7918 - val_accuracy: 0.1667\n",
            "Epoch 6/10\n",
            "66/66 [==============================] - 3s 49ms/step - loss: 1.7919 - accuracy: 0.1571 - val_loss: 1.7918 - val_accuracy: 0.1667\n",
            "Epoch 7/10\n",
            "66/66 [==============================] - 3s 49ms/step - loss: 1.7919 - accuracy: 0.1619 - val_loss: 1.7918 - val_accuracy: 0.1667\n",
            "Epoch 8/10\n",
            "66/66 [==============================] - 3s 52ms/step - loss: 1.7919 - accuracy: 0.1600 - val_loss: 1.7918 - val_accuracy: 0.1667\n",
            "Epoch 9/10\n",
            "66/66 [==============================] - 3s 52ms/step - loss: 1.7919 - accuracy: 0.1510 - val_loss: 1.7918 - val_accuracy: 0.1667\n",
            "Epoch 10/10\n",
            "66/66 [==============================] - 3s 49ms/step - loss: 1.7919 - accuracy: 0.1624 - val_loss: 1.7918 - val_accuracy: 0.1667\n"
          ]
        },
        {
          "output_type": "display_data",
          "data": {
            "text/plain": [
              "<Figure size 432x288 with 1 Axes>"
            ],
            "image/png": "[encoded data removed]"
          },
          "metadata": {
            "needs_background": "light"
          }
        },
        {
          "output_type": "display_data",
          "data": {
            "text/plain": [
              "<Figure size 432x288 with 1 Axes>"
            ],
            "image/png": "[encoded data removed]"
          },
          "metadata": {
            "needs_background": "light"
          }
        }
      ]
    },
    {
      "cell_type": "code",
      "source": [
        "mlflow ui"
      ],
      "metadata": {
        "id": "L8S-Ep289GVx"
      },
      "execution_count": null,
      "outputs": []
    }
  ],
  "metadata": {
    "accelerator": "GPU",
    "colab": {
      "provenance": []
    },
    "gpuClass": "standard",
    "kernelspec": {
      "display_name": "Python 3",
      "name": "python3"
    },
    "language_info": {
      "name": "python"
    }
  },
  "nbformat": 4,
  "nbformat_minor": 0
}